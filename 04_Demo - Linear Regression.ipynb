{
 "cells": [
  {
   "cell_type": "markdown",
   "metadata": {},
   "source": [
    "# Demo: Linear Regression"
   ]
  },
  {
   "cell_type": "code",
   "execution_count": 1,
   "metadata": {
    "ExecuteTime": {
     "end_time": "2018-03-16T21:14:52.271291Z",
     "start_time": "2018-03-16T21:14:52.265698Z"
    }
   },
   "outputs": [],
   "source": [
    "import matplotlib.pyplot as plt\n",
    "import numpy as np"
   ]
  },
  {
   "cell_type": "markdown",
   "metadata": {},
   "source": [
    "## First, let's create some linear data"
   ]
  },
  {
   "cell_type": "code",
   "execution_count": 2,
   "metadata": {
    "ExecuteTime": {
     "end_time": "2018-03-16T21:14:52.279350Z",
     "start_time": "2018-03-16T21:14:52.273563Z"
    }
   },
   "outputs": [
    {
     "data": {
      "text/plain": [
       "array([8.73429403, 9.68540663, 8.6919454 , 5.30855692, 2.32728328,\n",
       "       0.11398804, 4.30468818, 4.0235136 , 5.22674671, 4.78391796,\n",
       "       5.55356474, 5.43386018, 7.60895576, 7.12374574, 6.19682096,\n",
       "       4.2609177 , 2.89075028, 9.73855241, 3.33774046, 2.18801061,\n",
       "       0.65808388, 9.82870547, 1.27855713, 3.22130793, 0.70942845,\n",
       "       2.24769939, 3.93634915, 8.96145005, 3.45461612, 9.84749437,\n",
       "       0.28732049, 3.51684736, 3.80958889, 7.64160131, 9.38803913,\n",
       "       3.19689796, 4.32475933, 2.70145742, 8.01055886, 6.38238806,\n",
       "       0.68690133, 6.03644476, 7.95574558, 0.32008156, 4.55447822,\n",
       "       7.90172541, 9.88596518, 5.83964544, 0.38912298, 4.46422908])"
      ]
     },
     "execution_count": 2,
     "metadata": {},
     "output_type": "execute_result"
    }
   ],
   "source": [
    "rng = np.random.RandomState(8)\n",
    "x = 10 * rng.rand(50)\n",
    "x"
   ]
  },
  {
   "cell_type": "markdown",
   "metadata": {},
   "source": [
    "## Now let's add some random noise to the data"
   ]
  },
  {
   "cell_type": "code",
   "execution_count": 3,
   "metadata": {
    "ExecuteTime": {
     "end_time": "2018-03-16T21:14:52.365634Z",
     "start_time": "2018-03-16T21:14:52.281306Z"
    }
   },
   "outputs": [
    {
     "data": {
      "image/png": "[encoded data removed]",
      "text/plain": [
       "<Figure size 432x288 with 1 Axes>"
      ]
     },
     "metadata": {
      "needs_background": "light"
     },
     "output_type": "display_data"
    }
   ],
   "source": [
    "y = 2 * x - 6 + rng.normal(0.0, 1.0, 50)\n",
    "plt.scatter(x, y);"
   ]
  },
  {
   "cell_type": "markdown",
   "metadata": {},
   "source": [
    "## Now let's create a Linear Regressor\n",
    "* what we create here is an \"empty\" model, i.e., a model which has not yet been trained"
   ]
  },
  {
   "cell_type": "code",
   "execution_count": 4,
   "metadata": {
    "ExecuteTime": {
     "end_time": "2018-03-16T21:14:52.466703Z",
     "start_time": "2018-03-16T21:14:52.367693Z"
    }
   },
   "outputs": [],
   "source": [
    "from sklearn.linear_model import LinearRegression\n",
    "model = LinearRegression()"
   ]
  },
  {
   "cell_type": "markdown",
   "metadata": {},
   "source": [
    "## We need to convert the data from a 1-d array to a 2-d array (matrix)\n",
    "* we can use __`np.newaxis`__ to do that\n",
    "* it will increase the dimensionality of an array"
   ]
  },
  {
   "cell_type": "code",
   "execution_count": 5,
   "metadata": {
    "ExecuteTime": {
     "end_time": "2018-03-16T21:14:52.466703Z",
     "start_time": "2018-03-16T21:14:52.367693Z"
    }
   },
   "outputs": [
    {
     "data": {
      "text/plain": [
       "array([8.73429403, 9.68540663, 8.6919454 , 5.30855692, 2.32728328,\n",
       "       0.11398804, 4.30468818, 4.0235136 , 5.22674671, 4.78391796,\n",
       "       5.55356474, 5.43386018, 7.60895576, 7.12374574, 6.19682096,\n",
       "       4.2609177 , 2.89075028, 9.73855241, 3.33774046, 2.18801061,\n",
       "       0.65808388, 9.82870547, 1.27855713, 3.22130793, 0.70942845,\n",
       "       2.24769939, 3.93634915, 8.96145005, 3.45461612, 9.84749437,\n",
       "       0.28732049, 3.51684736, 3.80958889, 7.64160131, 9.38803913,\n",
       "       3.19689796, 4.32475933, 2.70145742, 8.01055886, 6.38238806,\n",
       "       0.68690133, 6.03644476, 7.95574558, 0.32008156, 4.55447822,\n",
       "       7.90172541, 9.88596518, 5.83964544, 0.38912298, 4.46422908])"
      ]
     },
     "execution_count": 5,
     "metadata": {},
     "output_type": "execute_result"
    }
   ],
   "source": [
    "x"
   ]
  },
  {
   "cell_type": "code",
   "execution_count": 6,
   "metadata": {
    "ExecuteTime": {
     "end_time": "2018-03-16T21:14:52.466703Z",
     "start_time": "2018-03-16T21:14:52.367693Z"
    }
   },
   "outputs": [
    {
     "data": {
      "text/plain": [
       "(50,)"
      ]
     },
     "execution_count": 6,
     "metadata": {},
     "output_type": "execute_result"
    }
   ],
   "source": [
    "x.shape"
   ]
  },
  {
   "cell_type": "code",
   "execution_count": 7,
   "metadata": {
    "ExecuteTime": {
     "end_time": "2018-03-16T21:14:52.466703Z",
     "start_time": "2018-03-16T21:14:52.367693Z"
    }
   },
   "outputs": [
    {
     "data": {
      "text/plain": [
       "array([[8.73429403],\n",
       "       [9.68540663],\n",
       "       [8.6919454 ],\n",
       "       [5.30855692],\n",
       "       [2.32728328],\n",
       "       [0.11398804],\n",
       "       [4.30468818],\n",
       "       [4.0235136 ],\n",
       "       [5.22674671],\n",
       "       [4.78391796],\n",
       "       [5.55356474],\n",
       "       [5.43386018],\n",
       "       [7.60895576],\n",
       "       [7.12374574],\n",
       "       [6.19682096],\n",
       "       [4.2609177 ],\n",
       "       [2.89075028],\n",
       "       [9.73855241],\n",
       "       [3.33774046],\n",
       "       [2.18801061],\n",
       "       [0.65808388],\n",
       "       [9.82870547],\n",
       "       [1.27855713],\n",
       "       [3.22130793],\n",
       "       [0.70942845],\n",
       "       [2.24769939],\n",
       "       [3.93634915],\n",
       "       [8.96145005],\n",
       "       [3.45461612],\n",
       "       [9.84749437],\n",
       "       [0.28732049],\n",
       "       [3.51684736],\n",
       "       [3.80958889],\n",
       "       [7.64160131],\n",
       "       [9.38803913],\n",
       "       [3.19689796],\n",
       "       [4.32475933],\n",
       "       [2.70145742],\n",
       "       [8.01055886],\n",
       "       [6.38238806],\n",
       "       [0.68690133],\n",
       "       [6.03644476],\n",
       "       [7.95574558],\n",
       "       [0.32008156],\n",
       "       [4.55447822],\n",
       "       [7.90172541],\n",
       "       [9.88596518],\n",
       "       [5.83964544],\n",
       "       [0.38912298],\n",
       "       [4.46422908]])"
      ]
     },
     "execution_count": 7,
     "metadata": {},
     "output_type": "execute_result"
    }
   ],
   "source": [
    "x2 = x[:, np.newaxis] # increases the dimensionality of the array\n",
    "x2"
   ]
  },
  {
   "cell_type": "code",
   "execution_count": 8,
   "metadata": {
    "ExecuteTime": {
     "end_time": "2018-03-16T21:14:52.466703Z",
     "start_time": "2018-03-16T21:14:52.367693Z"
    }
   },
   "outputs": [
    {
     "data": {
      "text/plain": [
       "(50, 1)"
      ]
     },
     "execution_count": 8,
     "metadata": {},
     "output_type": "execute_result"
    }
   ],
   "source": [
    "x2.shape"
   ]
  },
  {
   "cell_type": "markdown",
   "metadata": {},
   "source": [
    "## Train our model"
   ]
  },
  {
   "cell_type": "code",
   "execution_count": 9,
   "metadata": {},
   "outputs": [
    {
     "data": {
      "text/plain": [
       "LinearRegression()"
      ]
     },
     "execution_count": 9,
     "metadata": {},
     "output_type": "execute_result"
    }
   ],
   "source": [
    "model.fit(x[:, np.newaxis], y)"
   ]
  },
  {
   "cell_type": "markdown",
   "metadata": {},
   "source": [
    "## Would be helpful to see the actual linear regression line\n",
    "* we can plot it\n",
    "* we'll create __`xfit`__, the endpoints of the line (0 and 10)\n",
    "* then we'll have our model _predict_ the y values for ech of those x values"
   ]
  },
  {
   "cell_type": "code",
   "execution_count": 10,
   "metadata": {},
   "outputs": [
    {
     "name": "stdout",
     "output_type": "stream",
     "text": [
      "x = [ 0. 10.]\n",
      "y = [-5.41254626 13.50682801]\n"
     ]
    }
   ],
   "source": [
    "xfit = np.linspace(0, 10, 2)\n",
    "yfit = model.predict(xfit[:, np.newaxis])\n",
    "print(f'x = {xfit}\\ny = {yfit}')"
   ]
  },
  {
   "cell_type": "markdown",
   "metadata": {},
   "source": [
    "## Now plot the points and the regression line"
   ]
  },
  {
   "cell_type": "code",
   "execution_count": 11,
   "metadata": {},
   "outputs": [
    {
     "data": {
      "image/png": "[encoded data removed]",
      "text/plain": [
       "<Figure size 432x288 with 1 Axes>"
      ]
     },
     "metadata": {
      "needs_background": "light"
     },
     "output_type": "display_data"
    }
   ],
   "source": [
    "plt.scatter(x, y)\n",
    "plt.plot(xfit, yfit, color='red');"
   ]
  },
  {
   "cell_type": "markdown",
   "metadata": {},
   "source": [
    "## Let's examine the coefficient and intercept"
   ]
  },
  {
   "cell_type": "code",
   "execution_count": 12,
   "metadata": {
    "ExecuteTime": {
     "end_time": "2018-03-16T21:14:52.473891Z",
     "start_time": "2018-03-16T21:14:52.468821Z"
    }
   },
   "outputs": [
    {
     "data": {
      "text/plain": [
       "array([1.89193743])"
      ]
     },
     "execution_count": 12,
     "metadata": {},
     "output_type": "execute_result"
    }
   ],
   "source": [
    "model.coef_"
   ]
  },
  {
   "cell_type": "code",
   "execution_count": 13,
   "metadata": {
    "ExecuteTime": {
     "end_time": "2018-03-16T21:14:52.481044Z",
     "start_time": "2018-03-16T21:14:52.475773Z"
    }
   },
   "outputs": [
    {
     "data": {
      "text/plain": [
       "-5.412546259728196"
      ]
     },
     "execution_count": 13,
     "metadata": {},
     "output_type": "execute_result"
    }
   ],
   "source": [
    "model.intercept_"
   ]
  },
  {
   "cell_type": "code",
   "execution_count": 14,
   "metadata": {},
   "outputs": [
    {
     "name": "stdout",
     "output_type": "stream",
     "text": [
      "y = 1.89x - 5.41\n"
     ]
    }
   ],
   "source": [
    "print(f'y = {model.coef_[0]:.2f}x - {abs(model.intercept_):.2f}')"
   ]
  },
  {
   "cell_type": "code",
   "execution_count": null,
   "metadata": {},
   "outputs": [],
   "source": []
  }
 ],
 "metadata": {
  "interpreter": {
   "hash": "f2dae7b8263cf48ae2a1e3e9322b329ad42c2d28af1ff5f49870594264262771"
  },
  "kernelspec": {
   "display_name": "Python 3 (ipykernel)",
   "language": "python",
   "name": "python3"
  },
  "language_info": {
   "codemirror_mode": {
    "name": "ipython",
    "version": 3
   },
   "file_extension": ".py",
   "mimetype": "text/x-python",
   "name": "python",
   "nbconvert_exporter": "python",
   "pygments_lexer": "ipython3",
   "version": "3.9.7"
  }
 },
 "nbformat": 4,
 "nbformat_minor": 4
}
